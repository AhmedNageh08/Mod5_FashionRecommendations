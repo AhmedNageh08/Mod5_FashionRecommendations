{
 "cells": [
  {
   "cell_type": "code",
   "execution_count": null,
   "metadata": {},
   "outputs": [],
   "source": [
    "import pandas as pd"
   ]
  },
  {
   "cell_type": "code",
   "execution_count": 1,
   "metadata": {},
   "outputs": [],
   "source": [
    "from predict import Predict"
   ]
  },
  {
   "cell_type": "code",
   "execution_count": 2,
   "metadata": {},
   "outputs": [],
   "source": [
    "p = Predict()"
   ]
  },
  {
   "cell_type": "code",
   "execution_count": 3,
   "metadata": {},
   "outputs": [
    {
     "data": {
      "text/plain": [
       "(['/data/RTR/images/dresses/SA140.jpg',\n",
       "  '/data/RTR/images/dresses/KS92.jpg',\n",
       "  '/data/RTR/images/bottom/TYBS15.jpg',\n",
       "  '/data/RTR/images/knit/TYBS13.jpg',\n",
       "  '/data/RTR/images/dresses/GRL79.jpg'],\n",
       " [0.8202539086341858,\n",
       "  0.8327213525772095,\n",
       "  0.8376657962799072,\n",
       "  0.8376657962799072,\n",
       "  0.8570350408554077],\n",
       " ['http://www.renttherunway.com/shop/designers/sachin__babi/knit_multi_pleat_dress',\n",
       "  'http://www.renttherunway.com/shop/designers/kate_spade_new_york/stripe_embroidered_maxi_dress',\n",
       "  'http://www.renttherunway.com/shop/designers/tory_sport/multistripe_knit_skirt',\n",
       "  'http://www.renttherunway.com/shop/designers/tory_sport/multistripe_knit_sweater',\n",
       "  'http://www.renttherunway.com/shop/designers/greylin/ferrah_striped_midi_dress'])"
      ]
     },
     "execution_count": 3,
     "metadata": {},
     "output_type": "execute_result"
    }
   ],
   "source": [
    "p.get_recs('../pink.jpg')"
   ]
  },
  {
   "cell_type": "code",
   "execution_count": null,
   "metadata": {},
   "outputs": [],
   "source": [
    "new_df = pd.read_csv('rtr_df.csv',index_col='img_name')"
   ]
  },
  {
   "cell_type": "code",
   "execution_count": null,
   "metadata": {},
   "outputs": [],
   "source": [
    "new_df.loc['/data/RTR/images/dresses/SA140.jpg']['url']"
   ]
  },
  {
   "cell_type": "code",
   "execution_count": null,
   "metadata": {},
   "outputs": [],
   "source": []
  }
 ],
 "metadata": {
  "kernelspec": {
   "display_name": "Python 3",
   "language": "python",
   "name": "python3"
  },
  "language_info": {
   "codemirror_mode": {
    "name": "ipython",
    "version": 3
   },
   "file_extension": ".py",
   "mimetype": "text/x-python",
   "name": "python",
   "nbconvert_exporter": "python",
   "pygments_lexer": "ipython3",
   "version": "3.7.2"
  },
  "toc": {
   "base_numbering": 1,
   "nav_menu": {},
   "number_sections": true,
   "sideBar": true,
   "skip_h1_title": false,
   "title_cell": "Table of Contents",
   "title_sidebar": "Contents",
   "toc_cell": false,
   "toc_position": {},
   "toc_section_display": true,
   "toc_window_display": false
  }
 },
 "nbformat": 4,
 "nbformat_minor": 2
}
